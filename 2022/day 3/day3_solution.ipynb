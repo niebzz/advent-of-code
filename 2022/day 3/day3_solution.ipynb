{
 "cells": [
  {
   "cell_type": "code",
   "execution_count": 206,
   "metadata": {},
   "outputs": [],
   "source": [
    "import re"
   ]
  },
  {
   "cell_type": "code",
   "execution_count": 207,
   "metadata": {},
   "outputs": [],
   "source": [
    "input_files = [r\"input.txt\",\n",
    "               r\"input.txt\"]\n",
    "\n",
    "test_data = open(input_files[0]).read().split(\"\\n\")\n",
    "data = open(input_files[1]).read().split(\"\\n\")\n"
   ]
  },
  {
   "cell_type": "code",
   "execution_count": 208,
   "metadata": {},
   "outputs": [],
   "source": [
    "def get_compartments(string: str) -> list:\n",
    "    div = int(len(string) / 2)\n",
    "    c1 = string[:div]\n",
    "    c2 = string[div:]\n",
    "    return [c1, c2]\n"
   ]
  },
  {
   "cell_type": "code",
   "execution_count": 209,
   "metadata": {},
   "outputs": [],
   "source": [
    "def get_common_chars(compartments: list) -> list:\n",
    "    c1 = set(compartments[0])\n",
    "    c2 = set(compartments[1])\n",
    "    return list(c1 & c2)\n"
   ]
  },
  {
   "cell_type": "code",
   "execution_count": 210,
   "metadata": {},
   "outputs": [],
   "source": [
    "def get_priority(char: str):\n",
    "    priority_chars = [letter for letter in \"abcdefghijklmnopqrstuvwxyzABCDEFGHIJKLMNOPQRSTUVWXYZ\"]\n",
    "    priority_nums = [x for x in range(1, 53)]\n",
    "\n",
    "    priority = {}\n",
    "    for i in range(0, 52):\n",
    "        key = priority_chars[i]\n",
    "        value = int(priority_nums[i])\n",
    "\n",
    "        priority[key] = value\n",
    "\n",
    "    return priority[char]\n"
   ]
  },
  {
   "cell_type": "code",
   "execution_count": 211,
   "metadata": {},
   "outputs": [
    {
     "data": {
      "text/plain": [
       "8176"
      ]
     },
     "execution_count": 211,
     "metadata": {},
     "output_type": "execute_result"
    }
   ],
   "source": [
    "def part1():\n",
    "    sum = 0\n",
    "    for line in data:\n",
    "        compartment = get_compartments(line)\n",
    "        common_chars = get_common_chars(compartment)\n",
    "\n",
    "        for char in common_chars:\n",
    "            x = get_priority(char)\n",
    "            sum = sum + x\n",
    "\n",
    "    return sum\n",
    "\n",
    "part1()"
   ]
  },
  {
   "cell_type": "code",
   "execution_count": 212,
   "metadata": {},
   "outputs": [],
   "source": [
    "def get_groups_p2(input_file):\n",
    "    groups = []\n",
    "\n",
    "    for i, line in enumerate(input_file):\n",
    "        if i in range(0, len(input_file), 3):\n",
    "            line1 = input_file[i]\n",
    "            line2 = input_file[i + 1]\n",
    "            line3 = input_file[i + 2]\n",
    "            \n",
    "            groups.append([line1, line2, line3])\n",
    "    \n",
    "    return groups\n"
   ]
  },
  {
   "cell_type": "code",
   "execution_count": 213,
   "metadata": {},
   "outputs": [
    {
     "data": {
      "text/plain": [
       "2689"
      ]
     },
     "execution_count": 213,
     "metadata": {},
     "output_type": "execute_result"
    }
   ],
   "source": [
    "def part2():\n",
    "    groups = get_groups_p2(data)\n",
    "\n",
    "    sum = 0\n",
    "    for group in groups:\n",
    "        common_chars = list(set(group[0]) & set(group[1]) & set(group[2]))\n",
    "        \n",
    "        for char in common_chars:\n",
    "            x = get_priority(char)\n",
    "            sum = sum + x\n",
    "\n",
    "    return sum\n",
    "            \n",
    "part2()"
   ]
  }
 ],
 "metadata": {
  "kernelspec": {
   "display_name": ".venv",
   "language": "python",
   "name": "python3"
  },
  "language_info": {
   "codemirror_mode": {
    "name": "ipython",
    "version": 3
   },
   "file_extension": ".py",
   "mimetype": "text/x-python",
   "name": "python",
   "nbconvert_exporter": "python",
   "pygments_lexer": "ipython3",
   "version": "3.11.5"
  }
 },
 "nbformat": 4,
 "nbformat_minor": 2
}
