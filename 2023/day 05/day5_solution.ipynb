{
 "cells": [
  {
   "cell_type": "code",
   "execution_count": 1,
   "metadata": {},
   "outputs": [],
   "source": [
    "import re, math"
   ]
  },
  {
   "cell_type": "code",
   "execution_count": 2,
   "metadata": {},
   "outputs": [],
   "source": [
    "input_file = r\"input.txt\"\n",
    "data = open(input_file).read().split(\"\\n\")\n",
    "\n",
    "num_rows = len(data)\n"
   ]
  },
  {
   "cell_type": "markdown",
   "metadata": {},
   "source": [
    "# Part 1"
   ]
  },
  {
   "cell_type": "code",
   "execution_count": 3,
   "metadata": {},
   "outputs": [],
   "source": [
    "def get_seeds_p1(input_file) -> list:\n",
    "    seeds = data[0].split(\"seeds: \")\n",
    "    seeds = re.findall(\"(\\d+)\", seeds[1])\n",
    "    return seeds\n",
    "\n",
    "# seeds = p1_get_seeds(data)"
   ]
  },
  {
   "cell_type": "code",
   "execution_count": 4,
   "metadata": {},
   "outputs": [],
   "source": [
    "def map_x_to_y(map_string: str, number: str):\n",
    "    index1 = [i + 1 for i, line in enumerate(data) if map_string in line][0]\n",
    "    index2 = [i for i in range(index1, num_rows) if data[i] == \"\"][0]\n",
    "\n",
    "    for i in range(index1, index2):\n",
    "        digits = re.findall(\"(\\d+)\", data[i])\n",
    "        \n",
    "        source_range_start = int(digits[1])\n",
    "        destination_range_start = int(digits[0])\n",
    "        n = int(digits[2])\n",
    "\n",
    "        source_range_end = source_range_start + (n - 1)\n",
    "\n",
    "        result = int(number)\n",
    "\n",
    "        if result >= source_range_start and result <= source_range_end:\n",
    "            result = destination_range_start + result - source_range_start\n",
    "            break           \n",
    "    \n",
    "    return result\n",
    "\n",
    "# map_x_to_y(\"seed-to-soil map\", seeds[0])"
   ]
  },
  {
   "cell_type": "code",
   "execution_count": 5,
   "metadata": {},
   "outputs": [],
   "source": [
    "def get_seed_location(seed: str) -> str:\n",
    "    \n",
    "    soil = map_x_to_y(\"seed-to-soil map\", seed)\n",
    "    fertilizer = map_x_to_y(\"soil-to-fertilizer map\", soil)\n",
    "    water = map_x_to_y(\"fertilizer-to-water map\", fertilizer)\n",
    "    light = map_x_to_y(\"water-to-light map\", water)\n",
    "    temperature = map_x_to_y(\"light-to-temperature map\", light)\n",
    "    humidity = map_x_to_y(\"temperature-to-humidity map\", temperature)\n",
    "    location = map_x_to_y(\"humidity-to-location map\", humidity)\n",
    "\n",
    "    return location\n",
    "\n",
    "# get_seed_location(\"13\")"
   ]
  },
  {
   "cell_type": "code",
   "execution_count": 6,
   "metadata": {},
   "outputs": [
    {
     "name": "stdout",
     "output_type": "stream",
     "text": [
      "part 1: 227653707\n"
     ]
    }
   ],
   "source": [
    "def part1():\n",
    "    seeds = get_seeds_p1(data)\n",
    "    \n",
    "    locations = []\n",
    "    for i, seed in enumerate(seeds):\n",
    "        locations.append(get_seed_location(seed))\n",
    "        \n",
    "    print(f\"part 1: {sorted(locations)[0]}\")\n",
    "\n",
    "part1()"
   ]
  },
  {
   "cell_type": "markdown",
   "metadata": {},
   "source": [
    "# Part 2"
   ]
  },
  {
   "cell_type": "code",
   "execution_count": 7,
   "metadata": {},
   "outputs": [
    {
     "name": "stdout",
     "output_type": "stream",
     "text": [
      "48014\n"
     ]
    }
   ],
   "source": [
    "def count_seeds_p2(input_file) -> list:\n",
    "    seeds = input_file[0].split(\"seeds: \")\n",
    "    seeds = re.findall(\"(\\d+)\", seeds[1])\n",
    "\n",
    "    seed_count = 0\n",
    "    for i, seed in enumerate(seeds):\n",
    "        if i % 2 != 0:\n",
    "            seed_count = seed_count + int(seeds[i]) \n",
    "            \n",
    "    return seed_count\n",
    "\n",
    "n = count_seeds_p2(data)\n",
    "step_size = math.sqrt(n).__ceil__()\n",
    "\n",
    "print(step_size)"
   ]
  },
  {
   "cell_type": "code",
   "execution_count": 8,
   "metadata": {},
   "outputs": [],
   "source": [
    "def get_seeds_p2(input_file, step_size) -> list:\n",
    "    seeds = input_file[0].split(\"seeds: \")\n",
    "    seeds = re.findall(\"(\\d+)\", seeds[1])\n",
    "\n",
    "    new_seeds = []\n",
    "    for i, seed in enumerate(seeds):\n",
    "        if i % 2 != 0:\n",
    "            begin = int(seeds[i-1])\n",
    "            end = begin + int(seeds[i]) \n",
    "\n",
    "            new_seeds.append([str(j) for j in range(begin, end, step_size)])\n",
    "        \n",
    "    flat_list = [item for sublist in new_seeds for item in sublist]\n",
    "\n",
    "    return sorted(flat_list)\n",
    "\n",
    "# get_seeds_p2(data, step_size)\n",
    "\n"
   ]
  },
  {
   "cell_type": "code",
   "execution_count": 9,
   "metadata": {},
   "outputs": [
    {
     "name": "stdout",
     "output_type": "stream",
     "text": [
      "approximate minimum location: 78818603\n"
     ]
    }
   ],
   "source": [
    "def part2():\n",
    "    seeds = get_seeds_p2(data, step_size) # takes a fuck ton of time to run below 100,000 step size\n",
    "    \n",
    "    locations = []\n",
    "    for i, seed in enumerate(seeds):\n",
    "        locations.append(get_seed_location(seed))\n",
    "\n",
    "    approx_min = sorted(locations)[0]\n",
    "    print(f\"approximate minimum location: {approx_min}\")\n",
    "    \n",
    "part2()\n"
   ]
  },
  {
   "cell_type": "code",
   "execution_count": null,
   "metadata": {},
   "outputs": [],
   "source": []
  }
 ],
 "metadata": {
  "kernelspec": {
   "display_name": ".venv",
   "language": "python",
   "name": "python3"
  },
  "language_info": {
   "codemirror_mode": {
    "name": "ipython",
    "version": 3
   },
   "file_extension": ".py",
   "mimetype": "text/x-python",
   "name": "python",
   "nbconvert_exporter": "python",
   "pygments_lexer": "ipython3",
   "version": "3.11.5"
  }
 },
 "nbformat": 4,
 "nbformat_minor": 2
}
