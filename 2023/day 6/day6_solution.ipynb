{
 "cells": [
  {
   "cell_type": "code",
   "execution_count": 1,
   "metadata": {},
   "outputs": [],
   "source": [
    "import re\n",
    "import math"
   ]
  },
  {
   "cell_type": "markdown",
   "metadata": {},
   "source": [
    "## Part 1"
   ]
  },
  {
   "cell_type": "code",
   "execution_count": 2,
   "metadata": {},
   "outputs": [],
   "source": [
    "input_file = r\"advent of code\\2023\\day 6\\input.txt\""
   ]
  },
  {
   "cell_type": "code",
   "execution_count": 3,
   "metadata": {},
   "outputs": [
    {
     "ename": "FileNotFoundError",
     "evalue": "[Errno 2] No such file or directory: 'advent of code\\\\2023\\\\day 6\\\\input.txt'",
     "output_type": "error",
     "traceback": [
      "\u001b[1;31m---------------------------------------------------------------------------\u001b[0m",
      "\u001b[1;31mFileNotFoundError\u001b[0m                         Traceback (most recent call last)",
      "\u001b[1;32mc:\\Users\\jaken\\anaconda3\\my_sandbox\\advent of code\\2023\\day 6\\day6_solution.ipynb Cell 4\u001b[0m line \u001b[0;36m1\n\u001b[1;32m----> <a href='vscode-notebook-cell:/c%3A/Users/jaken/anaconda3/my_sandbox/advent%20of%20code/2023/day%206/day6_solution.ipynb#W3sZmlsZQ%3D%3D?line=0'>1</a>\u001b[0m data \u001b[39m=\u001b[39m \u001b[39mopen\u001b[39;49m(input_file)\u001b[39m.\u001b[39mread()\u001b[39m.\u001b[39msplit(\u001b[39m\"\u001b[39m\u001b[39m\\n\u001b[39;00m\u001b[39m\"\u001b[39m)\n\u001b[0;32m      <a href='vscode-notebook-cell:/c%3A/Users/jaken/anaconda3/my_sandbox/advent%20of%20code/2023/day%206/day6_solution.ipynb#W3sZmlsZQ%3D%3D?line=1'>2</a>\u001b[0m data \u001b[39m=\u001b[39m [re\u001b[39m.\u001b[39mfindall(\u001b[39m\"\u001b[39m\u001b[39m(\u001b[39m\u001b[39m\\\u001b[39m\u001b[39md+)\u001b[39m\u001b[39m\"\u001b[39m, line) \u001b[39mfor\u001b[39;00m line \u001b[39min\u001b[39;00m data]\n",
      "File \u001b[1;32mc:\\Users\\jaken\\anaconda3\\my_sandbox\\.venv\\Lib\\site-packages\\IPython\\core\\interactiveshell.py:310\u001b[0m, in \u001b[0;36m_modified_open\u001b[1;34m(file, *args, **kwargs)\u001b[0m\n\u001b[0;32m    303\u001b[0m \u001b[39mif\u001b[39;00m file \u001b[39min\u001b[39;00m {\u001b[39m0\u001b[39m, \u001b[39m1\u001b[39m, \u001b[39m2\u001b[39m}:\n\u001b[0;32m    304\u001b[0m     \u001b[39mraise\u001b[39;00m \u001b[39mValueError\u001b[39;00m(\n\u001b[0;32m    305\u001b[0m         \u001b[39mf\u001b[39m\u001b[39m\"\u001b[39m\u001b[39mIPython won\u001b[39m\u001b[39m'\u001b[39m\u001b[39mt let you open fd=\u001b[39m\u001b[39m{\u001b[39;00mfile\u001b[39m}\u001b[39;00m\u001b[39m by default \u001b[39m\u001b[39m\"\u001b[39m\n\u001b[0;32m    306\u001b[0m         \u001b[39m\"\u001b[39m\u001b[39mas it is likely to crash IPython. If you know what you are doing, \u001b[39m\u001b[39m\"\u001b[39m\n\u001b[0;32m    307\u001b[0m         \u001b[39m\"\u001b[39m\u001b[39myou can use builtins\u001b[39m\u001b[39m'\u001b[39m\u001b[39m open.\u001b[39m\u001b[39m\"\u001b[39m\n\u001b[0;32m    308\u001b[0m     )\n\u001b[1;32m--> 310\u001b[0m \u001b[39mreturn\u001b[39;00m io_open(file, \u001b[39m*\u001b[39;49margs, \u001b[39m*\u001b[39;49m\u001b[39m*\u001b[39;49mkwargs)\n",
      "\u001b[1;31mFileNotFoundError\u001b[0m: [Errno 2] No such file or directory: 'advent of code\\\\2023\\\\day 6\\\\input.txt'"
     ]
    }
   ],
   "source": [
    "data = open(input_file).read().split(\"\\n\")\n",
    "data = [re.findall(\"(\\d+)\", line) for line in data]"
   ]
  },
  {
   "cell_type": "code",
   "execution_count": null,
   "metadata": {},
   "outputs": [],
   "source": [
    "opp_races = []\n",
    "\n",
    "for i in range(len(data[0])):\n",
    "    time, opp_distance = (int(data[0][i]), int(data[1][i]))\n",
    "\n",
    "    opp_races.append((time, opp_distance))"
   ]
  },
  {
   "cell_type": "code",
   "execution_count": null,
   "metadata": {},
   "outputs": [
    {
     "name": "stdout",
     "output_type": "stream",
     "text": [
      "Part 1: 633080\n"
     ]
    }
   ],
   "source": [
    "def get_ways_to_win(races: list) -> list: # races = [(time1, distance1), (time2, distance2), etc.]\n",
    "    ways_to_win = []\n",
    "\n",
    "    for i, race in enumerate(races):\n",
    "        num_ways_to_win = 0\n",
    "\n",
    "        time = race[0]\n",
    "        time_range = [t for t in range(0, time + 1)]\n",
    "\n",
    "        distance_to_beat = race[1]\n",
    "\n",
    "        for j in range(len(time_range)):\n",
    "            hold_time = j\n",
    "            travel_time = time - hold_time\n",
    "\n",
    "            velocity = hold_time \n",
    "            distance = travel_time * velocity\n",
    "            \n",
    "            if distance > distance_to_beat:\n",
    "                num_ways_to_win = num_ways_to_win + 1\n",
    "                \n",
    "        ways_to_win.append(num_ways_to_win)\n",
    "\n",
    "    return ways_to_win\n",
    "\n",
    "\n",
    "p1 = math.prod(get_ways_to_win(opp_races))\n",
    "\n",
    "print(f\"Part 1: {p1}\")\n"
   ]
  },
  {
   "cell_type": "markdown",
   "metadata": {},
   "source": [
    "## Part 2"
   ]
  },
  {
   "cell_type": "code",
   "execution_count": null,
   "metadata": {},
   "outputs": [],
   "source": [
    "time = []\n",
    "distance = []\n",
    "for i in range(len(data[0])):\n",
    "    time.append(data[0][i])\n",
    "    distance.append(data[1][i])\n",
    "\n",
    "time = int(\"\".join(time))\n",
    "distance = int(\"\".join(distance))\n",
    "\n",
    "race2 = [(time, distance)]"
   ]
  },
  {
   "cell_type": "code",
   "execution_count": null,
   "metadata": {},
   "outputs": [
    {
     "name": "stdout",
     "output_type": "stream",
     "text": [
      "Part 2: 20048741\n"
     ]
    }
   ],
   "source": [
    "p2 = get_ways_to_win(race2)[0]\n",
    "\n",
    "print(f\"Part 2: {p2}\")"
   ]
  }
 ],
 "metadata": {
  "kernelspec": {
   "display_name": ".venv",
   "language": "python",
   "name": "python3"
  },
  "language_info": {
   "codemirror_mode": {
    "name": "ipython",
    "version": 3
   },
   "file_extension": ".py",
   "mimetype": "text/x-python",
   "name": "python",
   "nbconvert_exporter": "python",
   "pygments_lexer": "ipython3",
   "version": "3.11.5"
  }
 },
 "nbformat": 4,
 "nbformat_minor": 2
}
