{
 "cells": [
  {
   "cell_type": "code",
   "execution_count": 263,
   "metadata": {},
   "outputs": [],
   "source": [
    "from common_utils import aoc_filepath\n",
    "import re\n",
    "import math\n"
   ]
  },
  {
   "cell_type": "markdown",
   "metadata": {},
   "source": [
    "## Part 1"
   ]
  },
  {
   "cell_type": "code",
   "execution_count": 264,
   "metadata": {},
   "outputs": [],
   "source": [
    "input_file = aoc_filepath + r\"\\2023\\day 6\\input.txt\""
   ]
  },
  {
   "cell_type": "code",
   "execution_count": 265,
   "metadata": {},
   "outputs": [],
   "source": [
    "data = open(input_file).read().split(\"\\n\")\n",
    "data = [re.findall(\"(\\d+)\", line) for line in data]"
   ]
  },
  {
   "cell_type": "code",
   "execution_count": 266,
   "metadata": {},
   "outputs": [],
   "source": [
    "opp_races = []\n",
    "\n",
    "for i in range(len(data[0])):\n",
    "    time, opp_distance = (int(data[0][i]), int(data[1][i]))\n",
    "\n",
    "    opp_races.append((time, opp_distance))"
   ]
  },
  {
   "cell_type": "code",
   "execution_count": 267,
   "metadata": {},
   "outputs": [
    {
     "name": "stdout",
     "output_type": "stream",
     "text": [
      "Part 1: 633080\n"
     ]
    }
   ],
   "source": [
    "def get_ways_to_win(races: list) -> list: # races = [(time1, distance1), (time2, distance2), etc.]\n",
    "    ways_to_win = []\n",
    "\n",
    "    for i, race in enumerate(races):\n",
    "        num_ways_to_win = 0\n",
    "\n",
    "        time = race[0]\n",
    "        time_range = [t for t in range(0, time + 1)]\n",
    "\n",
    "        distance_to_beat = race[1]\n",
    "\n",
    "        for j in range(len(time_range)):\n",
    "            hold_time = j\n",
    "            travel_time = time - hold_time\n",
    "\n",
    "            velocity = hold_time \n",
    "            distance = travel_time * velocity\n",
    "            \n",
    "            if distance > distance_to_beat:\n",
    "                num_ways_to_win = num_ways_to_win + 1\n",
    "                \n",
    "        ways_to_win.append(num_ways_to_win)\n",
    "\n",
    "    return ways_to_win\n",
    "\n",
    "\n",
    "p1 = math.prod(get_ways_to_win(opp_races))\n",
    "\n",
    "print(f\"Part 1: {p1}\")\n"
   ]
  },
  {
   "cell_type": "markdown",
   "metadata": {},
   "source": [
    "## Part 2"
   ]
  },
  {
   "cell_type": "code",
   "execution_count": 268,
   "metadata": {},
   "outputs": [],
   "source": [
    "time = []\n",
    "distance = []\n",
    "for i in range(len(data[0])):\n",
    "    time.append(data[0][i])\n",
    "    distance.append(data[1][i])\n",
    "\n",
    "time = int(\"\".join(time))\n",
    "distance = int(\"\".join(distance))\n",
    "\n",
    "race_p2 = [(time, distance)]"
   ]
  },
  {
   "cell_type": "code",
   "execution_count": 269,
   "metadata": {},
   "outputs": [
    {
     "name": "stdout",
     "output_type": "stream",
     "text": [
      "Part 2: 20048741\n"
     ]
    }
   ],
   "source": [
    "p2 = get_ways_to_win(race_p2)[0]\n",
    "\n",
    "print(f\"Part 2: {p2}\")"
   ]
  }
 ],
 "metadata": {
  "kernelspec": {
   "display_name": ".venv",
   "language": "python",
   "name": "python3"
  },
  "language_info": {
   "codemirror_mode": {
    "name": "ipython",
    "version": 3
   },
   "file_extension": ".py",
   "mimetype": "text/x-python",
   "name": "python",
   "nbconvert_exporter": "python",
   "pygments_lexer": "ipython3",
   "version": "3.11.5"
  }
 },
 "nbformat": 4,
 "nbformat_minor": 2
}
