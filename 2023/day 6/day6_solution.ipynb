{
 "cells": [
  {
   "cell_type": "code",
   "execution_count": 27,
   "metadata": {},
   "outputs": [],
   "source": [
    "from common_utils import aoc_filepath\n",
    "import re"
   ]
  },
  {
   "cell_type": "code",
   "execution_count": 30,
   "metadata": {},
   "outputs": [
    {
     "name": "stdout",
     "output_type": "stream",
     "text": [
      "['7', '15', '30']\n",
      "['9', '40', '200']\n"
     ]
    }
   ],
   "source": [
    "input_file = aoc_filepath + r\"\\2023\\day 6\\test_input.txt\"\n",
    "\n",
    "data = open(input_file).read().split(\"\\n\")\n",
    "\n",
    "races = []\n",
    "for i, line in enumerate(data):\n",
    "    x = re.findall(\"(\\d+)\", line)\n",
    "    print(x)"
   ]
  }
 ],
 "metadata": {
  "kernelspec": {
   "display_name": ".venv",
   "language": "python",
   "name": "python3"
  },
  "language_info": {
   "codemirror_mode": {
    "name": "ipython",
    "version": 3
   },
   "file_extension": ".py",
   "mimetype": "text/x-python",
   "name": "python",
   "nbconvert_exporter": "python",
   "pygments_lexer": "ipython3",
   "version": "3.11.5"
  }
 },
 "nbformat": 4,
 "nbformat_minor": 2
}
